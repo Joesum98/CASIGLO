{
 "cells": [
  {
   "cell_type": "code",
   "execution_count": 1,
   "metadata": {},
   "outputs": [
    {
     "name": "stderr",
     "output_type": "stream",
     "text": [
      "2023-03-16 15:24:26.357086: W tensorflow/compiler/xla/stream_executor/platform/default/dso_loader.cc:64] Could not load dynamic library 'libnvinfer.so.7'; dlerror: libnvinfer.so.7: cannot open shared object file: No such file or directory; LD_LIBRARY_PATH: /uufs/chpc.utah.edu/sys/spack/linux-rocky8-nehalem/gcc-8.5.0/postgresql-12.2-pcghl36flcaxn4lqxhx7mwm4zu4cuuy4/lib:/uufs/kingspeak.peaks/sys/pkg/slurm/std/lib\n",
      "2023-03-16 15:24:26.357833: W tensorflow/compiler/xla/stream_executor/platform/default/dso_loader.cc:64] Could not load dynamic library 'libnvinfer_plugin.so.7'; dlerror: libnvinfer_plugin.so.7: cannot open shared object file: No such file or directory; LD_LIBRARY_PATH: /uufs/chpc.utah.edu/sys/spack/linux-rocky8-nehalem/gcc-8.5.0/postgresql-12.2-pcghl36flcaxn4lqxhx7mwm4zu4cuuy4/lib:/uufs/kingspeak.peaks/sys/pkg/slurm/std/lib\n",
      "2023-03-16 15:24:26.357851: W tensorflow/compiler/tf2tensorrt/utils/py_utils.cc:38] TF-TRT Warning: Cannot dlopen some TensorRT libraries. If you would like to use Nvidia GPU with TensorRT, please make sure the missing libraries mentioned above are installed properly.\n"
     ]
    },
    {
     "name": "stdout",
     "output_type": "stream",
     "text": [
      "           OPERATION           DATA DIMENSIONS   WEIGHTS(N)   WEIGHTS(%)\n",
      "\n",
      "               Input   #####   4563    1\n",
      "              Conv1D    \\|/  -------------------       182     0.0%\n",
      "                       #####   4551   13\n",
      "  BatchNormalization    μ|σ  -------------------        52     0.0%\n",
      "                       #####   4551   13\n",
      "        MaxPooling1D   Y max -------------------         0     0.0%\n",
      "                relu   #####   2275   13\n",
      "              Conv1D    \\|/  -------------------     21983     1.2%\n",
      "                       #####   2146   13\n",
      "  BatchNormalization    μ|σ  -------------------        52     0.0%\n",
      "                       #####   2146   13\n",
      "        MaxPooling1D   Y max -------------------         0     0.0%\n",
      "                relu   #####    536   13\n",
      "             Flatten   ||||| -------------------         0     0.0%\n",
      "                       #####        6968\n",
      "             Dropout    | || -------------------         0     0.0%\n",
      "                       #####        6968\n",
      "               Dense   XXXXX -------------------   1784064    98.5%\n",
      "                       #####         256\n",
      "  BatchNormalization    μ|σ  -------------------      1024     0.1%\n",
      "                relu   #####         256\n",
      "             Dropout    | || -------------------         0     0.0%\n",
      "                       #####         256\n",
      "               Dense   XXXXX -------------------      3341     0.2%\n",
      "                       #####          13\n"
     ]
    },
    {
     "name": "stderr",
     "output_type": "stream",
     "text": [
      "2023-03-16 15:24:34.797730: E tensorflow/compiler/xla/stream_executor/cuda/cuda_driver.cc:267] failed call to cuInit: CUDA_ERROR_NO_DEVICE: no CUDA-capable device is detected\n",
      "2023-03-16 15:24:34.797786: I tensorflow/compiler/xla/stream_executor/cuda/cuda_diagnostics.cc:156] kernel driver does not appear to be running on this host (manga): /proc/driver/nvidia/version does not exist\n"
     ]
    }
   ],
   "source": [
    "from keras_sequential_ascii import keras2ascii\n",
    "import model\n",
    "\n",
    "nn = model.create_smaller_model(model.metrics)\n",
    "keras2ascii(nn)"
   ]
  },
  {
   "cell_type": "code",
   "execution_count": 5,
   "metadata": {},
   "outputs": [
    {
     "name": "stdout",
     "output_type": "stream",
     "text": [
      "(None, 4563, 1) <dtype: 'float32'>\n",
      "(None, 13) <dtype: 'float32'>\n"
     ]
    },
    {
     "data": {
      "text/plain": [
       "[None]"
      ]
     },
     "execution_count": 5,
     "metadata": {},
     "output_type": "execute_result"
    }
   ],
   "source": [
    "[print(i.shape, i.dtype) for i in nn.inputs]\n",
    "[print(o.shape, o.dtype) for o in nn.outputs]"
   ]
  },
  {
   "cell_type": "code",
   "execution_count": null,
   "metadata": {},
   "outputs": [],
   "source": []
  }
 ],
 "metadata": {
  "kernelspec": {
   "display_name": "Python 3.10.8",
   "language": "python",
   "name": "python3"
  },
  "language_info": {
   "codemirror_mode": {
    "name": "ipython",
    "version": 3
   },
   "file_extension": ".py",
   "mimetype": "text/x-python",
   "name": "python",
   "nbconvert_exporter": "python",
   "pygments_lexer": "ipython3",
   "version": "3.10.8"
  },
  "orig_nbformat": 4,
  "vscode": {
   "interpreter": {
    "hash": "135b39839cb5e8387ae30e7e8a2a61075d863fcb332621737cbf0179a601a6b4"
   }
  }
 },
 "nbformat": 4,
 "nbformat_minor": 2
}
